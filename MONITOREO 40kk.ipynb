{
 "cells": [
  {
   "cell_type": "code",
   "execution_count": 1,
   "id": "0fd74165-6054-43aa-b72c-4e0965faccbf",
   "metadata": {},
   "outputs": [
    {
     "name": "stderr",
     "output_type": "stream",
     "text": [
      "C:\\Users\\Francisco Betancour\\AppData\\Local\\Temp\\ipykernel_14280\\1464625698.py:34: DeprecationWarning: Importing display from IPython.core.display is deprecated since IPython 7.14, please import from IPython display\n",
      "  from IPython.core.display import display, HTML\n"
     ]
    },
    {
     "data": {
      "text/html": [
       "?style?.container {width: 70% !important; }?/style?"
      ],
      "text/plain": [
       "<IPython.core.display.HTML object>"
      ]
     },
     "metadata": {},
     "output_type": "display_data"
    }
   ],
   "source": [
    "import pandas as pd\n",
    "\n",
    "from datetime import datetime\n",
    "from datetime import date\n",
    "\n",
    "import datetime\n",
    "import numpy as np\n",
    "import matplotlib.pyplot as plt\n",
    "import matplotlib as mpl\n",
    "import re\n",
    "\n",
    "import unicodedata\n",
    "import math\n",
    "from itertools import cycle\n",
    "import xlsxwriter\n",
    "import pyodbc\n",
    "from datetime import timedelta\n",
    "import matplotlib\n",
    "\n",
    "import random\n",
    "from IPython.display import display, HTML\n",
    "\n",
    "import sys\n",
    "\n",
    "import tkinter as tk\n",
    "from tkinter import ttk\n",
    "from tkinter import PhotoImage\n",
    "from PIL import ImageTk, Image\n",
    "import os\n",
    "\n",
    "pd.set_option(\"display.max_columns\", None)\n",
    "pd.set_option(\"display.max_rows\", None)\n",
    "\n",
    "from IPython.core.display import display, HTML\n",
    "display(HTML(\"?style?.container {width: 70% !important; }?/style?\"))"
   ]
  },
  {
   "cell_type": "code",
   "execution_count": 2,
   "id": "ff2ebf1c-40f2-49f7-89a0-e8b13c315034",
   "metadata": {},
   "outputs": [],
   "source": [
    "def calcula_dv(rut_base):\n",
    "    # Convertir el RUT base a una cadena y revertirla\n",
    "    reversed_digits = list(map(int, str(rut_base)[::-1]))\n",
    "    # Definir los factores (2..7) que se repiten en ciclo\n",
    "    factors = list(range(2, 8))\n",
    "    # Calcular la suma de los productos\n",
    "    suma = sum(d * f for d, f in zip(reversed_digits, factors * (len(reversed_digits) // len(factors) + 1)))\n",
    "    # Calcular el dígito verificador\n",
    "    dv = (-suma) % 11\n",
    "    return 'K' if dv == 10 else str(dv)\n",
    "\n",
    "def remove_leading_zeros(rut):\n",
    "    rut_part, dv = rut.split('-')\n",
    "    rut_part = rut_part.lstrip('0')\n",
    "    if not rut_part:\n",
    "        rut_part = '0'\n",
    "    return f\"{rut_part}-{dv}\"\n",
    "\n",
    "def reemplazar_k(identificador):\n",
    "    return identificador[:-1:] + identificador[-1].upper()\n",
    "\n",
    "def separar_rut(numero):\n",
    "    numero_str = str(numero)\n",
    "    # Tomar los últimos 1 dígito y el resto\n",
    "    parte_numerica = numero_str[:-1]\n",
    "    digito_verificador = numero_str[-1]\n",
    "    # Formatear el RUT con el guion\n",
    "    rut_formateado = f\"{parte_numerica}-{digito_verificador}\"\n",
    "    return rut_formateado"
   ]
  },
  {
   "cell_type": "markdown",
   "id": "50615d37-1264-4277-b10d-57548222b6fe",
   "metadata": {},
   "source": [
    "### Parte 1"
   ]
  },
  {
   "cell_type": "code",
   "execution_count": null,
   "id": "09c5a550-cc90-4054-9aba-2198efe9f64f",
   "metadata": {},
   "outputs": [],
   "source": [
    "df_alta_custodia = pd.read_excel(\"Alta custodia.xlsx\")"
   ]
  },
  {
   "cell_type": "code",
   "execution_count": 9,
   "id": "857fde9f-32bc-4f97-bf89-9a2ac948ad60",
   "metadata": {},
   "outputs": [
    {
     "ename": "NameError",
     "evalue": "name 'df_custodia_detalle' is not defined",
     "output_type": "error",
     "traceback": [
      "\u001b[1;31m---------------------------------------------------------------------------\u001b[0m",
      "\u001b[1;31mNameError\u001b[0m                                 Traceback (most recent call last)",
      "Cell \u001b[1;32mIn[9], line 1\u001b[0m\n\u001b[1;32m----> 1\u001b[0m df_custodia_detalle\u001b[38;5;241m.\u001b[39msample()\n",
      "\u001b[1;31mNameError\u001b[0m: name 'df_custodia_detalle' is not defined"
     ]
    }
   ],
   "source": [
    "df_custodia_detalle.sample()"
   ]
  },
  {
   "cell_type": "code",
   "execution_count": 6,
   "id": "7f92434c-8f49-496c-84a0-5eee32bdce48",
   "metadata": {},
   "outputs": [
    {
     "ename": "KeyError",
     "evalue": "'Agente'",
     "output_type": "error",
     "traceback": [
      "\u001b[1;31m---------------------------------------------------------------------------\u001b[0m",
      "\u001b[1;31mKeyError\u001b[0m                                  Traceback (most recent call last)",
      "File \u001b[1;32m~\\anaconda3\\Lib\\site-packages\\pandas\\core\\indexes\\base.py:3791\u001b[0m, in \u001b[0;36mIndex.get_loc\u001b[1;34m(self, key)\u001b[0m\n\u001b[0;32m   3790\u001b[0m \u001b[38;5;28;01mtry\u001b[39;00m:\n\u001b[1;32m-> 3791\u001b[0m     \u001b[38;5;28;01mreturn\u001b[39;00m \u001b[38;5;28mself\u001b[39m\u001b[38;5;241m.\u001b[39m_engine\u001b[38;5;241m.\u001b[39mget_loc(casted_key)\n\u001b[0;32m   3792\u001b[0m \u001b[38;5;28;01mexcept\u001b[39;00m \u001b[38;5;167;01mKeyError\u001b[39;00m \u001b[38;5;28;01mas\u001b[39;00m err:\n",
      "File \u001b[1;32mindex.pyx:152\u001b[0m, in \u001b[0;36mpandas._libs.index.IndexEngine.get_loc\u001b[1;34m()\u001b[0m\n",
      "File \u001b[1;32mindex.pyx:181\u001b[0m, in \u001b[0;36mpandas._libs.index.IndexEngine.get_loc\u001b[1;34m()\u001b[0m\n",
      "File \u001b[1;32mpandas\\_libs\\hashtable_class_helper.pxi:7080\u001b[0m, in \u001b[0;36mpandas._libs.hashtable.PyObjectHashTable.get_item\u001b[1;34m()\u001b[0m\n",
      "File \u001b[1;32mpandas\\_libs\\hashtable_class_helper.pxi:7088\u001b[0m, in \u001b[0;36mpandas._libs.hashtable.PyObjectHashTable.get_item\u001b[1;34m()\u001b[0m\n",
      "\u001b[1;31mKeyError\u001b[0m: 'Agente'",
      "\nThe above exception was the direct cause of the following exception:\n",
      "\u001b[1;31mKeyError\u001b[0m                                  Traceback (most recent call last)",
      "Cell \u001b[1;32mIn[6], line 1\u001b[0m\n\u001b[1;32m----> 1\u001b[0m filtered_df1 \u001b[38;5;241m=\u001b[39m df_cartera_detalle[df_cartera_detalle[\u001b[38;5;124m'\u001b[39m\u001b[38;5;124mAgente\u001b[39m\u001b[38;5;124m'\u001b[39m]\u001b[38;5;241m.\u001b[39misin([\u001b[38;5;124m'\u001b[39m\u001b[38;5;124mTRII\u001b[39m\u001b[38;5;124m'\u001b[39m, \u001b[38;5;124m'\u001b[39m\u001b[38;5;124mRACIONAL\u001b[39m\u001b[38;5;124m'\u001b[39m])]\n\u001b[0;32m      3\u001b[0m pivot_df \u001b[38;5;241m=\u001b[39m filtered_df1\u001b[38;5;241m.\u001b[39mpivot_table(\n\u001b[0;32m      4\u001b[0m     index\u001b[38;5;241m=\u001b[39m\u001b[38;5;124m'\u001b[39m\u001b[38;5;124mIDENTIFICADOR\u001b[39m\u001b[38;5;124m'\u001b[39m,\n\u001b[0;32m      5\u001b[0m     columns\u001b[38;5;241m=\u001b[39m\u001b[38;5;124m'\u001b[39m\u001b[38;5;124mAgente\u001b[39m\u001b[38;5;124m'\u001b[39m,\n\u001b[1;32m   (...)\u001b[0m\n\u001b[0;32m      8\u001b[0m     fill_value\u001b[38;5;241m=\u001b[39m\u001b[38;5;241m0\u001b[39m  \u001b[38;5;66;03m# Rellenar con 0 si no hay valores para algún agente\u001b[39;00m\n\u001b[0;32m      9\u001b[0m )\n\u001b[0;32m     11\u001b[0m pivot_df[\u001b[38;5;124m'\u001b[39m\u001b[38;5;124mTOTAL\u001b[39m\u001b[38;5;124m'\u001b[39m] \u001b[38;5;241m=\u001b[39m pivot_df\u001b[38;5;241m.\u001b[39msum(axis\u001b[38;5;241m=\u001b[39m\u001b[38;5;241m1\u001b[39m)\n",
      "File \u001b[1;32m~\\anaconda3\\Lib\\site-packages\\pandas\\core\\frame.py:3893\u001b[0m, in \u001b[0;36mDataFrame.__getitem__\u001b[1;34m(self, key)\u001b[0m\n\u001b[0;32m   3891\u001b[0m \u001b[38;5;28;01mif\u001b[39;00m \u001b[38;5;28mself\u001b[39m\u001b[38;5;241m.\u001b[39mcolumns\u001b[38;5;241m.\u001b[39mnlevels \u001b[38;5;241m>\u001b[39m \u001b[38;5;241m1\u001b[39m:\n\u001b[0;32m   3892\u001b[0m     \u001b[38;5;28;01mreturn\u001b[39;00m \u001b[38;5;28mself\u001b[39m\u001b[38;5;241m.\u001b[39m_getitem_multilevel(key)\n\u001b[1;32m-> 3893\u001b[0m indexer \u001b[38;5;241m=\u001b[39m \u001b[38;5;28mself\u001b[39m\u001b[38;5;241m.\u001b[39mcolumns\u001b[38;5;241m.\u001b[39mget_loc(key)\n\u001b[0;32m   3894\u001b[0m \u001b[38;5;28;01mif\u001b[39;00m is_integer(indexer):\n\u001b[0;32m   3895\u001b[0m     indexer \u001b[38;5;241m=\u001b[39m [indexer]\n",
      "File \u001b[1;32m~\\anaconda3\\Lib\\site-packages\\pandas\\core\\indexes\\base.py:3798\u001b[0m, in \u001b[0;36mIndex.get_loc\u001b[1;34m(self, key)\u001b[0m\n\u001b[0;32m   3793\u001b[0m     \u001b[38;5;28;01mif\u001b[39;00m \u001b[38;5;28misinstance\u001b[39m(casted_key, \u001b[38;5;28mslice\u001b[39m) \u001b[38;5;129;01mor\u001b[39;00m (\n\u001b[0;32m   3794\u001b[0m         \u001b[38;5;28misinstance\u001b[39m(casted_key, abc\u001b[38;5;241m.\u001b[39mIterable)\n\u001b[0;32m   3795\u001b[0m         \u001b[38;5;129;01mand\u001b[39;00m \u001b[38;5;28many\u001b[39m(\u001b[38;5;28misinstance\u001b[39m(x, \u001b[38;5;28mslice\u001b[39m) \u001b[38;5;28;01mfor\u001b[39;00m x \u001b[38;5;129;01min\u001b[39;00m casted_key)\n\u001b[0;32m   3796\u001b[0m     ):\n\u001b[0;32m   3797\u001b[0m         \u001b[38;5;28;01mraise\u001b[39;00m InvalidIndexError(key)\n\u001b[1;32m-> 3798\u001b[0m     \u001b[38;5;28;01mraise\u001b[39;00m \u001b[38;5;167;01mKeyError\u001b[39;00m(key) \u001b[38;5;28;01mfrom\u001b[39;00m \u001b[38;5;21;01merr\u001b[39;00m\n\u001b[0;32m   3799\u001b[0m \u001b[38;5;28;01mexcept\u001b[39;00m \u001b[38;5;167;01mTypeError\u001b[39;00m:\n\u001b[0;32m   3800\u001b[0m     \u001b[38;5;66;03m# If we have a listlike key, _check_indexing_error will raise\u001b[39;00m\n\u001b[0;32m   3801\u001b[0m     \u001b[38;5;66;03m#  InvalidIndexError. Otherwise we fall through and re-raise\u001b[39;00m\n\u001b[0;32m   3802\u001b[0m     \u001b[38;5;66;03m#  the TypeError.\u001b[39;00m\n\u001b[0;32m   3803\u001b[0m     \u001b[38;5;28mself\u001b[39m\u001b[38;5;241m.\u001b[39m_check_indexing_error(key)\n",
      "\u001b[1;31mKeyError\u001b[0m: 'Agente'"
     ]
    }
   ],
   "source": [
    "filtered_df1 = df_alta_custodia[df_alta_custodia['Agente'].isin(['TRII', 'RACIONAL'])]\n",
    "\n",
    "pivot_df = filtered_df1.pivot_table(\n",
    "    index='IDENTIFICADOR',\n",
    "    columns='Agente',\n",
    "    values='Valor Mercado CLP',\n",
    "    aggfunc='sum',\n",
    "    fill_value=0  # Rellenar con 0 si no hay valores para algún agente\n",
    ")\n",
    "\n",
    "pivot_df['TOTAL'] = pivot_df.sum(axis=1)\n",
    "descripcion_df = filtered_df1.drop_duplicates(subset='IDENTIFICADOR')[['IDENTIFICADOR', 'Descripción']]\n",
    "\n",
    "result_df1 = pivot_df.merge(descripcion_df, on='IDENTIFICADOR')\n",
    "result_df1 = result_df1[result_df1['TOTAL'] > 40_000_000].sort_values(by='TOTAL', ascending=False).reset_index(drop=True)\n",
    "result_df1 = result_df1.rename_axis(None, axis=1)\n"
   ]
  },
  {
   "cell_type": "code",
   "execution_count": null,
   "id": "2d5a8d76-abee-463e-a91d-7726f7619ea0",
   "metadata": {},
   "outputs": [],
   "source": [
    "result_df2.to_excel(\"operaciones_sobre40kk.xlsx\")"
   ]
  },
  {
   "cell_type": "markdown",
   "id": "41af990a-19fe-4d43-83bf-b52bcf8f7077",
   "metadata": {},
   "source": [
    "### Parte 2"
   ]
  },
  {
   "cell_type": "code",
   "execution_count": null,
   "id": "41a8e844-b366-4f71-90eb-540c250ee004",
   "metadata": {},
   "outputs": [],
   "source": [
    "filtered_df2 = df_alta_custodia[df_alta_custodia['Agente'].isin(['TRII', 'RACIONAL','BETTERPLAN ADVISORS SPA'])]\n",
    "pivot_df2 = filtered_df2.pivot_table(\n",
    "    index='IDENTIFICADOR',\n",
    "    columns='Agente',\n",
    "    values='Valor Mercado CLP',\n",
    "    aggfunc='sum',\n",
    "    fill_value=0  # Rellenar con 0 si no hay valores para algún agente\n",
    ")\n",
    "\n",
    "\n",
    "pivot_df2['TOTAL'] = pivot_df2.sum(axis=1)\n",
    "\n",
    "descripcion_df2 = filtered_df2.drop_duplicates(subset='IDENTIFICADOR')[['IDENTIFICADOR', 'Descripción']]\n",
    "result_df2 = pivot_df2.merge(descripcion_df2, on='IDENTIFICADOR')\n",
    "result_df2 = result_df2[result_df2['TOTAL'] > 40_000_000].sort_values(by='TOTAL', ascending=False).reset_index(drop=True)\n",
    "result_df2 = result_df2.rename_axis(None, axis=1)"
   ]
  },
  {
   "cell_type": "code",
   "execution_count": null,
   "id": "34ac1ed2-fd90-4796-b8ec-891fc98f009a",
   "metadata": {},
   "outputs": [],
   "source": [
    "result_df2"
   ]
  }
 ],
 "metadata": {
  "kernelspec": {
   "display_name": "Python 3 (ipykernel)",
   "language": "python",
   "name": "python3"
  },
  "language_info": {
   "codemirror_mode": {
    "name": "ipython",
    "version": 3
   },
   "file_extension": ".py",
   "mimetype": "text/x-python",
   "name": "python",
   "nbconvert_exporter": "python",
   "pygments_lexer": "ipython3",
   "version": "3.11.7"
  }
 },
 "nbformat": 4,
 "nbformat_minor": 5
}
