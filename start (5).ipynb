{
 "cells": [
  {
   "cell_type": "markdown",
   "id": "53dd415d-588e-41a2-a714-3acaff2c56fb",
   "metadata": {},
   "source": [
    "#### LIBRERIAS"
   ]
  },
  {
   "cell_type": "code",
   "execution_count": 1,
   "id": "b07592e0-c377-4cf9-992f-4d286cdae0c2",
   "metadata": {},
   "outputs": [],
   "source": [
    "import pandas as pd\n",
    "from datetime import datetime\n",
    "from datetime import date\n",
    "import datetime\n",
    "import numpy as np\n",
    "import matplotlib.pyplot as plt\n",
    "import matplotlib as mpl\n",
    "import re\n",
    "import unicodedata\n",
    "import math\n",
    "from itertools import cycle\n",
    "import xlsxwriter\n",
    "import pyodbc\n",
    "from datetime import timedelta\n",
    "import matplotlib\n",
    "import random\n",
    "from IPython.display import display, HTML\n",
    "import sys\n",
    "import tkinter as tk\n",
    "from tkinter import ttk\n",
    "from tkinter import PhotoImage\n",
    "from PIL import ImageTk, Image\n",
    "import os\n",
    "pd.options.display.float_format = \"{:,.0f}\".format"
   ]
  },
  {
   "cell_type": "markdown",
   "id": "b32aa15e-9567-43e6-8b1e-bc046dd4394d",
   "metadata": {},
   "source": [
    "#### FUNCIONES"
   ]
  },
  {
   "cell_type": "code",
   "execution_count": 2,
   "id": "405a6983-21b3-4d37-8676-cf283caad35e",
   "metadata": {},
   "outputs": [],
   "source": [
    "def calcula_dv(rut_base):\n",
    "    # CONVERTIR EL RUT BASE A UNA CADENA Y REVERTIRLA\n",
    "    reversed_digits = list(map(int, str(rut_base)[::-1]))\n",
    "    # DEFINIR LOS FACTORES (2..7) QUE SE REPITEN EN CICLO\n",
    "    factors = list(range(2, 8))\n",
    "    # CALCULAR LA SUMA DE LOS PRODUCTO\n",
    "    suma = sum(d * f for d, f in zip(reversed_digits, factors * (len(reversed_digits) // len(factors) + 1)))\n",
    "    # CALCULA DV\n",
    "    dv = (-suma) % 11\n",
    "    return 'K' if dv == 10 else str(dv)\n",
    "\n",
    "def remove_leading_zeros(rut):\n",
    "    rut_part, dv = rut.split('-')\n",
    "    rut_part = rut_part.lstrip('0')\n",
    "    if not rut_part:\n",
    "        rut_part = '0'\n",
    "    return f\"{rut_part}-{dv}\"\n",
    "\n",
    "def reemplazar_k(identificador):\n",
    "    return identificador[:-1:] + identificador[-1].upper()\n",
    "\n",
    "def separar_rut(numero):\n",
    "    numero_str = str(numero)\n",
    "    # TOMAR EL ULTIMO DIGITO\n",
    "    parte_numerica = numero_str[:-1]\n",
    "    digito_verificador = numero_str[-1]\n",
    "    # FORMTATEAR GUION\n",
    "    rut_formateado = f\"{parte_numerica}-{digito_verificador}\"\n",
    "    return rut_formateado"
   ]
  },
  {
   "cell_type": "markdown",
   "id": "d31da16b-4843-4ca9-86a0-38067efa6e4e",
   "metadata": {},
   "source": [
    "#### MUESTRA CLIENTES: \n",
    "\n",
    "Se toma muestra clientes de Ficha PEP desde Regcheq para desde esta base tomar las operaciones y aportes y rescates."
   ]
  },
  {
   "cell_type": "code",
   "execution_count": 3,
   "id": "09e7ec39-6ff3-4449-8789-9857678ec6b6",
   "metadata": {},
   "outputs": [],
   "source": [
    "df_muestra2 = pd.read_excel(\"Monitoreo Noviembre/Clientes PEP/muestra PEP NOVIEMBRE.xlsx\")"
   ]
  },
  {
   "cell_type": "code",
   "execution_count": 4,
   "id": "763d92bf-59d1-4d49-822f-a40063856f12",
   "metadata": {},
   "outputs": [],
   "source": [
    "identificadores = df_muestra2['IDENTIFICADOR'].tolist()\n",
    "# SEPARAR POR COMAS\n",
    "m = len(identificadores)\n",
    "identificadores_str = ','.join([f\"'{id}'\" for id in identificadores])"
   ]
  },
  {
   "cell_type": "markdown",
   "id": "9bdc4acb-cff9-449a-b0a8-cc06e19fb5b1",
   "metadata": {},
   "source": [
    "#### CONSULTAS:\n",
    "1. query_APORET: toma los aportes y los retiros\n",
    "2. query_INFO: toma la info personal\n",
    "3. query_CUSTODIA: operaciones del cliente\n",
    "\n",
    "4. query_OPERACIONES ## criterio aportes e inmovilizado sin ningun tipo de operacion\n",
    "5. query_SALDO_CAJA ## saldo caja primer mes y compararlo a finales, si en ambos esta sobre 10kk sospecha"
   ]
  },
  {
   "cell_type": "code",
   "execution_count": 5,
   "id": "f963615d-336f-4d5c-bd05-aa40fb831d3c",
   "metadata": {},
   "outputs": [],
   "source": [
    "m = df_muestra2['IDENTIFICADOR'].nunique()"
   ]
  },
  {
   "cell_type": "code",
   "execution_count": 6,
   "id": "56a307ed-8f31-4b28-8033-5e5d2ca6278d",
   "metadata": {},
   "outputs": [],
   "source": [
    "F_i = '2023-01-01'\n",
    "F = '2024-11-30' \n",
    "F_ic = '2024-11-30'\n",
    "F_ix = '2024-11-01'"
   ]
  },
  {
   "cell_type": "code",
   "execution_count": 7,
   "id": "eb7bd1af-eea8-4a39-8dca-73434912a435",
   "metadata": {},
   "outputs": [
    {
     "name": "stderr",
     "output_type": "stream",
     "text": [
      "C:\\Users\\Francisco Betancour\\AppData\\Local\\Temp\\ipykernel_11384\\85637969.py:29: UserWarning: pandas only supports SQLAlchemy connectable (engine/connection) or database string URI or sqlite3 DBAPI2 connection. Other DBAPI2 objects are not tested. Please consider using SQLAlchemy.\n",
      "  df_operaciones = pd.read_sql(query_universal['query_operaciones'], conn)\n"
     ]
    }
   ],
   "source": [
    "query_universal = {\n",
    "\n",
    "    'query_operaciones': f\"\"\"\n",
    "\n",
    "            SELECT \n",
    "                [NUM_CUENTA],\n",
    "                [IDENTIFICADOR],\n",
    "                [NOMBRE_CLIENTE],\n",
    "                [NOMBRE_ASESOR],\n",
    "                [FECHA_OPERACION],\n",
    "                [COD_TIPO_OPERACION],\n",
    "                [DSC_OPERACION_CONCEPTO],\n",
    "                [COD_MONEDA_OP],\n",
    "                [NEMOTECNICO],\n",
    "                [DSC_INSTRUMENTO],\n",
    "                [COD_SUB_CLASE_INSTRUMENTO],\n",
    "                [CANTIDAD],\n",
    "                [MONTO],\n",
    "                [MONTO_OPERACION]\n",
    "            FROM [Capitaria].[dbo].[OPERACION_CLIENTE_JGG]\n",
    "            WHERE [IDENTIFICADOR] IN ({identificadores_str})\n",
    "            AND FECHA_OPERACION BETWEEN CONVERT(datetime, '{F_i}', 120) AND CONVERT(datetime, '{F}', 120)\n",
    "    \"\"\"\n",
    "}\n",
    "\n",
    "# CONN TO DB\n",
    "conn = pyodbc.connect('DRIVER={SQL Server};SERVER=tcp:mi-sql-prd-002.5bf1e89c8cf2.database.windows.net;DATABASE=capitaria;UID=pablobustamante;PWD=S3cur3!PassPB5sta#2024')\n",
    "# EXECUTE\n",
    "df_operaciones = pd.read_sql(query_universal['query_operaciones'], conn)\n",
    "# CLOSE\n",
    "conn.close()"
   ]
  },
  {
   "cell_type": "code",
   "execution_count": 8,
   "id": "d803feda-b94e-4dc1-8fa0-2580aa12592f",
   "metadata": {},
   "outputs": [
    {
     "name": "stderr",
     "output_type": "stream",
     "text": [
      "C:\\Users\\Francisco Betancour\\AppData\\Local\\Temp\\ipykernel_11384\\635906783.py:71: UserWarning: pandas only supports SQLAlchemy connectable (engine/connection) or database string URI or sqlite3 DBAPI2 connection. Other DBAPI2 objects are not tested. Please consider using SQLAlchemy.\n",
      "  df_APORET_detalle = pd.read_sql(query_universal['query_APORET'], conn)\n",
      "C:\\Users\\Francisco Betancour\\AppData\\Local\\Temp\\ipykernel_11384\\635906783.py:72: UserWarning: pandas only supports SQLAlchemy connectable (engine/connection) or database string URI or sqlite3 DBAPI2 connection. Other DBAPI2 objects are not tested. Please consider using SQLAlchemy.\n",
      "  df_DATOS_clientes = pd.read_sql(query_universal['query_DATOS'], conn)\n"
     ]
    }
   ],
   "source": [
    "query_universal = {\n",
    "    \n",
    "        'query_APORET': f\"\"\"\n",
    "        SELECT \n",
    "        CARGO_ABONO,\n",
    "        NUM_CUENTA,\t\n",
    "        IDENTIFICADOR,\t\n",
    "        NOMBRE_CLI,\t\n",
    "        COD_MOV,\t\n",
    "        DSC_MOV_CAJA,\t\n",
    "        FECHA_MOVIMIENTO,\t\n",
    "        FECHA_LIQUIDACION,\n",
    "        MONTO,\n",
    "        NOMBRE_ASESOR,\t\n",
    "        TIPO_CAJA,\t\n",
    "        COD_MONEDA,\t\t\n",
    "        OBS_MOV_CAJA,\t\n",
    "        T_C,\t\n",
    "        MONTO_CLP\n",
    "\n",
    "        FROM [Capitaria].[dbo].[MOV_CAJA_CLI_JGG]\n",
    "        WHERE COD_MOV IN (\n",
    "            'APO_PAT',\n",
    "            'APO_PAT_AT',\n",
    "            'APO_PAT_BT',\n",
    "            'APO_PAT_LI',\n",
    "            'APO_PAT_RC',\n",
    "            'RET_PAT',\n",
    "            'RET_PAT_BA',\n",
    "            'RET_PAT_BT',\n",
    "            'RET_PAT_EX',\n",
    "            'RET_PAT_LI'\n",
    "            )\n",
    "        AND FECHA_MOVIMIENTO BETWEEN CONVERT(datetime, '{F_i}', 120) AND CONVERT(datetime, '{F}', 120)\n",
    "        AND IDENTIFICADOR IN ({identificadores_str});\n",
    "        \"\"\",\n",
    "\n",
    "        'query_DATOS': f\"\"\"\n",
    "        SELECT [NUM_CUENTA]\n",
    "              ,[DSC_CUENTA]\n",
    "              ,[ESTADO_CUENTA]\n",
    "              ,[COD_MONEDA]\n",
    "              ,[FECHA_OPERATIVA]\n",
    "              ,[NOMBRE_CLIENTE]\n",
    "              ,[NOMBRE_ASESOR]\n",
    "              ,[DSC_PERFIL_RIESGO]\n",
    "              ,[FECHA_NACIMIENTO]\n",
    "              ,[IDENTIFICADOR]\n",
    "              ,[COD_PAIS]\n",
    "              ,[PROFESION]\n",
    "              ,[EMPLEADOR]\n",
    "              ,[CARGO]\n",
    "              ,[GIRO]\n",
    "              ,[TELEFONO]\n",
    "              ,[CELULAR]\n",
    "              ,[EMAIL]\n",
    "              ,[DSC_PERFIL_RIESGO]\n",
    "          FROM [Capitaria].[dbo].[CLIENTES_JG]\n",
    "\n",
    "        WHERE \n",
    "        [IDENTIFICADOR] IN ({identificadores_str}); \n",
    "        \n",
    "        \"\"\"\n",
    "\n",
    "\n",
    "}\n",
    "\n",
    "# CONN TO DB\n",
    "conn = pyodbc.connect('DRIVER={SQL Server};SERVER=tcp:mi-sql-prd-002.5bf1e89c8cf2.database.windows.net;DATABASE=capitaria;UID=pablobustamante;PWD=S3cur3!PassPB5sta#2024')\n",
    "# EXECUTE\n",
    "df_APORET_detalle = pd.read_sql(query_universal['query_APORET'], conn)\n",
    "df_DATOS_clientes = pd.read_sql(query_universal['query_DATOS'], conn)\n",
    "\n",
    "\n",
    "# CLOSE\n",
    "conn.close()"
   ]
  },
  {
   "cell_type": "code",
   "execution_count": 9,
   "id": "bb2ffb1a-1934-47e5-b809-3fdf0a1c8336",
   "metadata": {},
   "outputs": [
    {
     "name": "stderr",
     "output_type": "stream",
     "text": [
      "C:\\Users\\Francisco Betancour\\AppData\\Local\\Temp\\ipykernel_11384\\2285896502.py:44: UserWarning: pandas only supports SQLAlchemy connectable (engine/connection) or database string URI or sqlite3 DBAPI2 connection. Other DBAPI2 objects are not tested. Please consider using SQLAlchemy.\n",
      "  df_custodia_detalle = pd.read_sql(query_universal['query_CUSTODIA'], conn)\n"
     ]
    }
   ],
   "source": [
    "query_universal = {\n",
    "    \n",
    "        'query_CUSTODIA': f\"\"\"\n",
    "        SELECT\n",
    "            C.fecha_cierre,\n",
    "            C.PRECIO_TASA_MERCADO,\n",
    "            V.NUM_CUENTA,\n",
    "            V.DSC_CUENTA AS NOMBRE_CLI,\n",
    "            C.CANTIDAD AS LIBRE,\n",
    "            CASE \n",
    "                WHEN PRESTAMOS IS NULL THEN 0 \n",
    "                ELSE PRESTAMOS \n",
    "            END AS PRESTAMOS_ACC,\n",
    "            V.IDENTIFICADOR,\n",
    "            I.NEMOTECNICO,\n",
    "            V.NOMBRE_ASESOR,\n",
    "            CASE \n",
    "                WHEN COD_SUB_CLASE_INSTRUMENTO IN ('CFI', 'ACC') AND I.COD_MONEDA = 'CLP' THEN CANTIDAD * PRECIO_TASA_MERCADO \n",
    "                WHEN COD_SUB_CLASE_INSTRUMENTO IN ('CFI', 'ACC') AND I.COD_MONEDA <> 'CLP' THEN (VALOR_MERCADO_CLP / (CANTIDAD + GARANTIA) * CANTIDAD)\n",
    "                ELSE (VALOR_MERCADO_CLP / (CANTIDAD + GARANTIA) * CANTIDAD) \n",
    "            END AS LIBRE_CLP,\n",
    "            CASE \n",
    "                WHEN COD_SUB_CLASE_INSTRUMENTO IN ('CFI', 'ACC') AND I.COD_MONEDA = 'CLP' THEN GARANTIA * PRECIO_TASA_MERCADO \n",
    "                WHEN COD_SUB_CLASE_INSTRUMENTO IN ('CFI', 'ACC') AND I.COD_MONEDA <> 'CLP' THEN (VALOR_MERCADO_CLP / (CANTIDAD + GARANTIA) * GARANTIA)\n",
    "                ELSE (VALOR_MERCADO_CLP / (CANTIDAD + GARANTIA) * GARANTIA) \n",
    "            END AS GARANTIA_CLP,\n",
    "            C.COMPRAS_PLAZO * C.PRECIO_TASA_MERCADO AS SIM_COMPRA_CLP,\n",
    "            C.VENTAS_PLAZO * C.PRECIO_TASA_MERCADO AS SIM_VENTA_CLP,\n",
    "            C.VALOR_MERCADO_CLP,\n",
    "            I.COD_SUB_CLASE_INSTRUMENTO\n",
    "        FROM\n",
    "            dbo.cierre_cartera_resumida AS C WITH (NOLOCK)\n",
    "            INNER JOIN dbo.VIEW_CUENTAS AS V WITH (NOLOCK) ON C.ID_CUENTA = V.ID_CUENTA\n",
    "            INNER JOIN dbo.INSTRUMENTO AS I WITH (NOLOCK) ON C.ID_INSTRUMENTO = I.ID_INSTRUMENTO\n",
    "        WHERE\n",
    "            C.FECHA_CIERRE BETWEEN CONVERT(datetime, '{F_ix}', 120) AND CONVERT(datetime, '{F}', 120)\n",
    "            AND V.IDENTIFICADOR IN ({identificadores_str}) ;\n",
    "    \"\"\"\n",
    "}\n",
    "\n",
    "# CONN TO DB\n",
    "conn = pyodbc.connect('DRIVER={SQL Server};SERVER=tcp:mi-sql-prd-002.5bf1e89c8cf2.database.windows.net;DATABASE=capitaria;UID=pablobustamante;PWD=S3cur3!PassPB5sta#2024')\n",
    "# EXECUTE\n",
    "df_custodia_detalle = pd.read_sql(query_universal['query_CUSTODIA'], conn)\n",
    "\n",
    "\n",
    "# CLOSE\n",
    "conn.close()"
   ]
  },
  {
   "cell_type": "code",
   "execution_count": 10,
   "id": "622141c2-054a-46b3-98fb-2053a9e80dcf",
   "metadata": {},
   "outputs": [
    {
     "name": "stderr",
     "output_type": "stream",
     "text": [
      "C:\\Users\\Francisco Betancour\\AppData\\Local\\Temp\\ipykernel_11384\\4281302796.py:57: UserWarning: pandas only supports SQLAlchemy connectable (engine/connection) or database string URI or sqlite3 DBAPI2 connection. Other DBAPI2 objects are not tested. Please consider using SQLAlchemy.\n",
      "  df_saldo_caja = pd.read_sql(query_universal['query_SaldoCaja'], conn)\n"
     ]
    }
   ],
   "source": [
    "query_universal = {\n",
    "    \n",
    "        'query_SaldoCaja': f\"\"\"\n",
    "    SELECT DISTINCT \n",
    "        A.NOMBRE_ASESOR, \n",
    "        A.IDENTIFICADOR,\n",
    "        b.NUM_CUENTA, \n",
    "        b.DSC_CUENTA AS NOMBRE_CLI, \n",
    "        b.FECHA_CIERRE, \n",
    "        b.ESTADO, \n",
    "        b.TIPO_CAJA, \n",
    "        b.MONTO_MON_CAJA, \n",
    "        b.MONTO_EN_PESOS, \n",
    "        b.TRANSITO\n",
    "    FROM \n",
    "        dbo.VIEW_CUENTAS AS A\n",
    "    INNER JOIN (\n",
    "        SELECT DISTINCT \n",
    "            C.ID_CUENTA, \n",
    "            C.NUM_CUENTA, \n",
    "            C.DSC_CUENTA, \n",
    "            A.FECHA_CIERRE, \n",
    "            A.EST_SALDO_CAJA AS ESTADO, \n",
    "            CASE \n",
    "                WHEN DSC_CAJA_CUENTA = 'CAJA PESOS' THEN 'CAJA PESO' \n",
    "                ELSE DSC_CAJA_CUENTA \n",
    "            END AS TIPO_CAJA, \n",
    "            A.MONTO_MON_CAJA, \n",
    "            A.MONTO_MON_CUENTA AS MONTO_EN_PESOS, \n",
    "            A.MONTO_X_PAGAR_MON_CTA, \n",
    "            A.MONTO_X_COBRAR_MON_CTA, \n",
    "            A.MONTO_X_COBRAR_MON_CTA - A.MONTO_X_PAGAR_MON_CTA AS TRANSITO\n",
    "        FROM \n",
    "            dbo.CUENTA AS C WITH (NOLOCK)\n",
    "        INNER JOIN \n",
    "            dbo.CAJA_CUENTA AS B WITH (NOLOCK) ON C.ID_CUENTA = B.ID_CUENTA\n",
    "        INNER JOIN \n",
    "            dbo.SALDO_CAJA AS A WITH (NOLOCK) ON B.ID_CAJA_CUENTA = A.ID_CAJA_CUENTA\n",
    "        WHERE \n",
    "            A.FECHA_CIERRE IN (\n",
    "         '2024-01-01', '2024-01-02', '2024-01-03', '2024-01-04', '2024-01-05',\n",
    "\t\t'2024-01-06', '2024-01-07', '2024-01-08', '2024-01-09', '2024-01-10', '2024-01-11', '2024-01-12'\n",
    "            )\n",
    "            AND A.EST_SALDO_CAJA = 'VIG' \n",
    "            AND (A.MONTO_X_PAGAR_MON_CTA + A.MONTO_X_COBRAR_MON_CTA + A.MONTO_MON_CUENTA) <> 0\n",
    "    ) AS b ON A.NUM_CUENTA = b.NUM_CUENTA\n",
    "    WHERE \n",
    "        A.IDENTIFICADOR IN ({identificadores_str}); \n",
    "\"\"\",\n",
    "\n",
    "\n",
    "}\n",
    "\n",
    "# CONN TO DB\n",
    "conn = pyodbc.connect('DRIVER={SQL Server};SERVER=tcp:mi-sql-prd-002.5bf1e89c8cf2.database.windows.net;DATABASE=capitaria;UID=pablobustamante;PWD=S3cur3!PassPB5sta#2024')\n",
    "# EXECUTE\n",
    "df_saldo_caja = pd.read_sql(query_universal['query_SaldoCaja'], conn)\n",
    "\n",
    "\n",
    "# CLOSE\n",
    "conn.close()      "
   ]
  },
  {
   "cell_type": "raw",
   "id": "d98b3f1e-46b9-4a58-bee3-340cba2bf337",
   "metadata": {},
   "source": [
    "num_rows = len(df_custodia_detalle)\n",
    "half_index = num_rows // 2\n",
    "\n",
    "df_op_part1 = df_operaciones.iloc[:half_index]\n",
    "df_op_part2 = df_operaciones.iloc[half_index:]\n",
    "\n",
    "# Guarda cada parte en un archivo Excel diferente\n",
    "df_op_part1.to_excel(\"Monitoreo Octubre/Operan Octubre/operaciones_part1.xlsx\", index=False)\n",
    "df_op_part2.to_excel(\"Monitoreo Octubre/Operan Octubre/operaciones_part2.xlsx\", index=False)"
   ]
  },
  {
   "cell_type": "raw",
   "id": "a4b1ed4e-87a5-4460-a52a-8ece39b4a2c7",
   "metadata": {},
   "source": [
    "num_rows = len(df_custodia_detalle)\n",
    "half_index = num_rows // 2\n",
    "\n",
    "df_cd_part1 = df_custodia_detalle.iloc[:half_index]\n",
    "df_cd_part2 = df_custodia_detalle.iloc[half_index:]\n",
    "\n",
    "# Guarda cada parte en un archivo Excel diferente\n",
    "df_cd_part1.to_excel(\"Monitoreo Octubre/Operan Octubre/custodia_part1.xlsx\", index=False)\n",
    "df_cd_part2.to_excel(\"Monitoreo Octubre/Operan Octubre/custodia_part2.xlsx\", index=False)"
   ]
  },
  {
   "cell_type": "code",
   "execution_count": 17,
   "id": "75ea8361-9f1e-4972-946b-eb064c1dfafd",
   "metadata": {},
   "outputs": [],
   "source": [
    "df_saldo_caja.to_excel(\"Monitoreo Noviembre/Clientes PEP/Caja.xlsx\")\n",
    "df_APORET_detalle.to_excel(\"Monitoreo Noviembre/Clientes PEP/Aportes.xlsx\")\n",
    "df_DATOS_clientes.to_excel(\"Monitoreo Noviembre/Clientes PEP/Datos.xlsx\")\n",
    "df_operaciones.to_excel(\"Monitoreo Noviembre/Clientes PEP/Operaciones.xlsx\")\n",
    "df_custodia_detalle.to_excel(\"Monitoreo Noviembre/Clientes PEP/Custodia.xlsx\")"
   ]
  },
  {
   "cell_type": "markdown",
   "id": "4aafff1d-e626-4e95-81e7-671e8b756cc2",
   "metadata": {},
   "source": [
    "#### TOMAR DATOS XLSX"
   ]
  },
  {
   "cell_type": "raw",
   "id": "80b6525a-4e83-4a3b-a0f4-8eebaf87026f",
   "metadata": {},
   "source": [
    "#### TOMA DATOS DESDE EL EXCEL PARA LAS PRUEBAS\n",
    "df_APORET_detalle = pd.read_excel(\"Monitoreo Octubre/Operan Octubre/Aportes.xlsx\")  \n",
    "### DATOS CLIENTES\n",
    "df_DATOS_clientes = pd.read_excel(\"Monitoreo Octubre/Operan Octubre/Datos.xlsx\")  \n",
    "## OPERACIONES\n",
    "df_operaciones = pd.read_excel(\"Monitoreo Octubre/Operan Octubre/Operaciones.xlsx\") \n",
    "## CAJA\n",
    "df_saldo_caja = pd.read_excel(\"Monitoreo Octubre/Operan Octubre/Caja.xlsx\") \n",
    "## CUSTODIA\n",
    "df_custodia_detalle = pd.read_excel(\"Monitoreo Noviembre/Causas Judiciales Riesgo Alto 20-11/Custodia.xlsx\") "
   ]
  },
  {
   "cell_type": "raw",
   "id": "73677944-a37c-4b4c-92ec-96c93530a918",
   "metadata": {},
   "source": [
    "df_custodia_detalle1 = pd.read_excel(\"Monitoreo Octubre/Operan Octubre/custodia_part1.xlsx\") \n",
    "df_custodia_detalle2 = pd.read_excel(\"Monitoreo Octubre/Operan Octubre/custodia_part2.xlsx\")\n",
    "df_custodia_detalle = pd.merge(df_custodia_detalle1, df_custodia_detalle2, how = 'outer')"
   ]
  },
  {
   "cell_type": "raw",
   "id": "ec0d79d5-bf53-4753-9a80-def73bc40568",
   "metadata": {},
   "source": [
    "operaciones_part1 = pd.read_excel(\"Monitoreo Octubre/Operan Octubre/operaciones_part1.xlsx\") \n",
    "operaciones_part2 = pd.read_excel(\"Monitoreo Octubre/Operan Octubre/operaciones_part1.xlsx\")\n",
    "df_operaciones = pd.merge(operaciones_part1, operaciones_part2, how = 'outer')"
   ]
  },
  {
   "cell_type": "code",
   "execution_count": 12,
   "id": "6a1d2356-15c9-4c1d-a857-3ef188f5066e",
   "metadata": {},
   "outputs": [],
   "source": [
    "df_saldo_caja['IDENTIFICADOR'] = df_saldo_caja['IDENTIFICADOR'].apply(reemplazar_k)\n",
    "df_custodia_detalle['IDENTIFICADOR'] = df_custodia_detalle['IDENTIFICADOR'].apply(reemplazar_k)\n",
    "df_operaciones['IDENTIFICADOR'] = df_operaciones['IDENTIFICADOR'].apply(reemplazar_k)\n",
    "df_DATOS_clientes['IDENTIFICADOR'] = df_DATOS_clientes['IDENTIFICADOR'].apply(reemplazar_k)\n",
    "df_APORET_detalle['IDENTIFICADOR'] = df_APORET_detalle['IDENTIFICADOR'].apply(reemplazar_k)"
   ]
  },
  {
   "cell_type": "markdown",
   "id": "a61da98d-879c-40de-9cd9-7d1aa60869d7",
   "metadata": {},
   "source": [
    "### DOLAR OBS V1"
   ]
  },
  {
   "cell_type": "code",
   "execution_count": 13,
   "id": "77f92ed1-e8b6-41f4-a33b-ad7febf03619",
   "metadata": {},
   "outputs": [],
   "source": [
    "df_dolar_obs = pd.read_excel(\"dol_observado.xlsx\") "
   ]
  },
  {
   "cell_type": "raw",
   "id": "87745fb0-800c-4c98-8c4c-51ca32cb33c8",
   "metadata": {},
   "source": [
    "\n",
    "df_operaciones = pd.merge(df_operaciones, df_dolar_obs[['FECHA_OPERACION', 'DOLAR_OBS']], on='FECHA_OPERACION', how='left')\n",
    "df_operaciones['DOLAR_OBS'] = df_operaciones['DOLAR_OBS'].fillna(' ')\n",
    "\n",
    "df_operaciones['MONTO_CLP'] = df_operaciones.apply(\n",
    "    lambda row: row['MONTO'] * row['DOLAR_OBS'] if row['COD_MONEDA_OP'] == 'USD' else row['MONTO'], \n",
    "    axis=1)"
   ]
  },
  {
   "cell_type": "markdown",
   "id": "4a03a62f-47d3-4384-bed0-664a7811b2a9",
   "metadata": {},
   "source": [
    "### DOLAR OBS V2"
   ]
  },
  {
   "cell_type": "code",
   "execution_count": 14,
   "id": "cb584d96-fc9d-4923-9c37-a6f256390b80",
   "metadata": {},
   "outputs": [
    {
     "name": "stdout",
     "output_type": "stream",
     "text": [
      "Index(['NUM_CUENTA', 'IDENTIFICADOR', 'NOMBRE_CLIENTE', 'NOMBRE_ASESOR',\n",
      "       'FECHA_OPERACION', 'COD_TIPO_OPERACION', 'DSC_OPERACION_CONCEPTO',\n",
      "       'COD_MONEDA_OP', 'NEMOTECNICO', 'DSC_INSTRUMENTO',\n",
      "       'COD_SUB_CLASE_INSTRUMENTO', 'CANTIDAD', 'MONTO', 'MONTO_OPERACION'],\n",
      "      dtype='object')\n",
      "Index(['FECHA_OPERACION', 'DOLAR_OBS'], dtype='object')\n"
     ]
    }
   ],
   "source": [
    "# Ensure column names match\n",
    "df_dolar_obs.rename(columns={'Your_Date_Column': 'FECHA_OPERACION'}, inplace=True)\n",
    "\n",
    "# Check for missing columns\n",
    "print(df_operaciones.columns)\n",
    "print(df_dolar_obs.columns)\n",
    "\n",
    "# Merge the data\n",
    "df_operaciones = pd.merge(df_operaciones, df_dolar_obs[['FECHA_OPERACION', 'DOLAR_OBS']], on='FECHA_OPERACION', how='left')\n",
    "\n",
    "# Replace missing DOLAR_OBS values with 0\n",
    "if 'DOLAR_OBS' in df_operaciones.columns:\n",
    "    df_operaciones['DOLAR_OBS'] = pd.to_numeric(df_operaciones['DOLAR_OBS'], errors='coerce').fillna(0)\n",
    "else:\n",
    "    print(\"Error: 'DOLAR_OBS' column is missing after the merge.\")\n",
    "\n",
    "# Ensure MONTO is numeric\n",
    "df_operaciones['MONTO'] = pd.to_numeric(df_operaciones['MONTO'], errors='coerce')\n",
    "\n",
    "# Calculate MONTO_CLP\n",
    "df_operaciones['MONTO_CLP'] = df_operaciones.apply(\n",
    "    lambda row: row['MONTO'] * row['DOLAR_OBS'] if row['COD_MONEDA_OP'] == 'USD' else row['MONTO'], \n",
    "    axis=1\n",
    ")\n"
   ]
  },
  {
   "cell_type": "code",
   "execution_count": 15,
   "id": "f73585b9-dbb5-45c7-a728-747bf3a27962",
   "metadata": {},
   "outputs": [
    {
     "name": "stdout",
     "output_type": "stream",
     "text": [
      "Stored 'df_muestra2' (DataFrame)\n",
      "Stored 'df_saldo_caja' (DataFrame)\n",
      "Stored 'df_custodia_detalle' (DataFrame)\n",
      "Stored 'df_operaciones' (DataFrame)\n",
      "Stored 'df_DATOS_clientes' (DataFrame)\n",
      "Stored 'df_APORET_detalle' (DataFrame)\n",
      "Stored 'm' (int)\n"
     ]
    }
   ],
   "source": [
    "%store df_muestra2\n",
    "%store df_saldo_caja\n",
    "%store df_custodia_detalle\n",
    "%store df_operaciones\n",
    "%store df_DATOS_clientes\n",
    "%store df_APORET_detalle\n",
    "# cantidad de clientes en la muestra\n",
    "%store m"
   ]
  },
  {
   "cell_type": "markdown",
   "id": "484f040f-596d-4997-a864-9d9f69226da6",
   "metadata": {},
   "source": [
    "Check"
   ]
  },
  {
   "cell_type": "code",
   "execution_count": 16,
   "id": "c5d775b0-a55c-44dc-88dc-a2635130ff24",
   "metadata": {},
   "outputs": [
    {
     "data": {
      "text/html": [
       "<div>\n",
       "<style scoped>\n",
       "    .dataframe tbody tr th:only-of-type {\n",
       "        vertical-align: middle;\n",
       "    }\n",
       "\n",
       "    .dataframe tbody tr th {\n",
       "        vertical-align: top;\n",
       "    }\n",
       "\n",
       "    .dataframe thead th {\n",
       "        text-align: right;\n",
       "    }\n",
       "</style>\n",
       "<table border=\"1\" class=\"dataframe\">\n",
       "  <thead>\n",
       "    <tr style=\"text-align: right;\">\n",
       "      <th></th>\n",
       "      <th>NUM_CUENTA</th>\n",
       "      <th>IDENTIFICADOR</th>\n",
       "      <th>NOMBRE_CLIENTE</th>\n",
       "      <th>NOMBRE_ASESOR</th>\n",
       "      <th>FECHA_OPERACION</th>\n",
       "      <th>COD_TIPO_OPERACION</th>\n",
       "      <th>DSC_OPERACION_CONCEPTO</th>\n",
       "      <th>COD_MONEDA_OP</th>\n",
       "      <th>NEMOTECNICO</th>\n",
       "      <th>DSC_INSTRUMENTO</th>\n",
       "      <th>COD_SUB_CLASE_INSTRUMENTO</th>\n",
       "      <th>CANTIDAD</th>\n",
       "      <th>MONTO</th>\n",
       "      <th>MONTO_OPERACION</th>\n",
       "      <th>DOLAR_OBS</th>\n",
       "      <th>MONTO_CLP</th>\n",
       "    </tr>\n",
       "  </thead>\n",
       "  <tbody>\n",
       "  </tbody>\n",
       "</table>\n",
       "</div>"
      ],
      "text/plain": [
       "Empty DataFrame\n",
       "Columns: [NUM_CUENTA, IDENTIFICADOR, NOMBRE_CLIENTE, NOMBRE_ASESOR, FECHA_OPERACION, COD_TIPO_OPERACION, DSC_OPERACION_CONCEPTO, COD_MONEDA_OP, NEMOTECNICO, DSC_INSTRUMENTO, COD_SUB_CLASE_INSTRUMENTO, CANTIDAD, MONTO, MONTO_OPERACION, DOLAR_OBS, MONTO_CLP]\n",
       "Index: []"
      ]
     },
     "execution_count": 16,
     "metadata": {},
     "output_type": "execute_result"
    }
   ],
   "source": [
    "df_operaciones[df_operaciones['IDENTIFICADOR'] == '16322686-3'].sort_values(by='FECHA_OPERACION')"
   ]
  }
 ],
 "metadata": {
  "kernelspec": {
   "display_name": "Python 3 (ipykernel)",
   "language": "python",
   "name": "python3"
  },
  "language_info": {
   "codemirror_mode": {
    "name": "ipython",
    "version": 3
   },
   "file_extension": ".py",
   "mimetype": "text/x-python",
   "name": "python",
   "nbconvert_exporter": "python",
   "pygments_lexer": "ipython3",
   "version": "3.11.7"
  }
 },
 "nbformat": 4,
 "nbformat_minor": 5
}
